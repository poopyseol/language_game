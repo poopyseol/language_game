{
 "cells": [
  {
   "cell_type": "code",
   "execution_count": 32,
   "id": "89f27c9e-9393-428d-8c62-fb88975ad410",
   "metadata": {},
   "outputs": [
    {
     "name": "stdout",
     "output_type": "stream",
     "text": [
      "i veux mot qua tao xanh\n"
     ]
    }
   ],
   "source": [
    "import random\n",
    "\n",
    "sentences = [\n",
    "    {\n",
    "        \"en\": [\"i\", \"want\", \"a green apple\"],\n",
    "        \"vt\": [\"toi\", \"muon\", \"mot qua tao xanh\"],      \n",
    "        \"fr\": [\"je\", \"veux\", \"une pomme verte\"]\n",
    "    } \n",
    "]\n",
    "\n",
    "\n",
    "sentence_index = 1\n",
    "language_selection = [\"en\", \"vt\", \"fr\"]\n",
    "\n",
    "sentence_index = random.randint(0, len(sentences)-1)\n",
    "languages_list = list(sentences[sentence_index].keys())\n",
    "\n",
    "sentence_length = len(sentences[sentence_index][languages_list[0]])\n",
    "sentence = []\n",
    "\n",
    "for word_index in range(sentence_length):\n",
    "    language_to_choose = languages_list[random.randint(0, len(languages_list)-1)]\n",
    "    sentence.append(sentences[sentence_index][language_to_choose][word_index])\n",
    "print(' '.join(sentence))\n",
    "#print(random.randint(1, 11))"
   ]
  },
  {
   "cell_type": "code",
   "execution_count": 33,
   "id": "33801012-72ef-46dd-8c5e-6d1ae573bb94",
   "metadata": {},
   "outputs": [],
   "source": [
    "from random import randint\n",
    "\n",
    "__author__ = 'dan-seol'\n",
    "\n",
    "sentences = [\n",
    "    {\n",
    "        \"en\": [\"i\", \"want\", \"a green apple\"],\n",
    "        \"vt\": [\"toi\", \"muon\", \"mot qua tao xanh\"],      \n",
    "        \"fr\": [\"je\", \"veux\", \"une pomme verte\"]\n",
    "    }\n",
    "    # please add more entry; credit @dan-seol\n",
    "]\n",
    "\n",
    "\n",
    "def create_heterogeneous_sentence(sentences):\n",
    "    sentence_index = random.randint(0, len(sentences)-1)\n",
    "    languages_list = list(sentences[sentence_index].keys())\n",
    "    sentence_length = len(sentences[sentence_index][languages_list[0]])\n",
    "    for word_index in range(sentence_length):\n",
    "        language_to_choose = languages_list[random.randint(0, len(languages_list)-1)]\n",
    "        yield sentences[sentence_index][language_to_choose][word_index]\n",
    "\n",
    "heterogeneous_sentence = list(create_heterogeneous_sentence(sentences))"
   ]
  },
  {
   "cell_type": "code",
   "execution_count": null,
   "id": "6706cde9-860b-447f-b667-bc6d6e0a307d",
   "metadata": {},
   "outputs": [],
   "source": []
  }
 ],
 "metadata": {
  "kernelspec": {
   "display_name": "Python 3 (ipykernel)",
   "language": "python",
   "name": "python3"
  },
  "language_info": {
   "codemirror_mode": {
    "name": "ipython",
    "version": 3
   },
   "file_extension": ".py",
   "mimetype": "text/x-python",
   "name": "python",
   "nbconvert_exporter": "python",
   "pygments_lexer": "ipython3",
   "version": "3.10.12"
  }
 },
 "nbformat": 4,
 "nbformat_minor": 5
}
